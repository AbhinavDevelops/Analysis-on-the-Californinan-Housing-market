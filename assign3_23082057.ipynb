{
 "cells": [
  {
   "cell_type": "code",
   "execution_count": 1,
   "metadata": {},
   "outputs": [],
   "source": [
    "#read in file\n",
    "\n",
    "import pandas as pd\n",
    "\n",
    "housing_data = pd.read_csv('housingCalifornia.csv')"
   ]
  },
  {
   "cell_type": "code",
   "execution_count": null,
   "metadata": {},
   "outputs": [],
   "source": [
    "#D1\n",
    "\n",
    "import seaborn as sns\n",
    "import matplotlib.pyplot as plt\n",
    "\n",
    "# Assuming that 'ocean_proximity' is the categorical variable in the dataset\n",
    "numerical_data = housing_data.select_dtypes(include=['float64', 'int64'])\n",
    "\n",
    "fig, axs = plt.subplots(nrows=numerical_data.shape[1], figsize=(10, 30))\n",
    "for i, col in enumerate(numerical_data.columns):\n",
    "    sns.histplot(data=numerical_data, x=col, ax=axs[i])\n",
    "\n",
    "# (b) Compute the correlation matrix of all features (excluding the categorical variable)\n",
    "correlation_matrix = numerical_data.corr()\n",
    "print(correlation_matrix)\n",
    "\n",
    "# Describe which features are more correlated (correlation coefficient higher than 0.8 in magnitude)\n",
    "highly_correlated = correlation_matrix[correlation_matrix > 0.8]\n",
    "print(highly_correlated)\n",
    "\n",
    "# (c) Present a scatter plot for each variable, displaying the corresponding variable on the x-axis\n",
    "# and the target variable on the y-axis.\n",
    "# Assuming that 'median_house_value' is the target variable\n",
    "target = 'median_house_value'\n",
    "\n",
    "fig, axs = plt.subplots(nrows=numerical_data.shape[1], figsize=(10, 30))\n",
    "for i, col in enumerate(numerical_data.drop(target, axis=1).columns):\n",
    "    sns.scatterplot(data=numerical_data, x=col, y=target, ax=axs[i])"
   ]
  }
 ],
 "metadata": {
  "kernelspec": {
   "display_name": "Python 3",
   "language": "python",
   "name": "python3"
  },
  "language_info": {
   "codemirror_mode": {
    "name": "ipython",
    "version": 3
   },
   "file_extension": ".py",
   "mimetype": "text/x-python",
   "name": "python",
   "nbconvert_exporter": "python",
   "pygments_lexer": "ipython3",
   "version": "3.12.2"
  }
 },
 "nbformat": 4,
 "nbformat_minor": 2
}
